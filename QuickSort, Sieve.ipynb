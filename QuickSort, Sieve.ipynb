{
 "cells": [
  {
   "cell_type": "code",
   "execution_count": 1,
   "id": "4b268ee9",
   "metadata": {},
   "outputs": [
    {
     "data": {
      "text/plain": [
       "[11, 22, 33, 44, 55, 66, 77, 88]"
      ]
     },
     "execution_count": 1,
     "metadata": {},
     "output_type": "execute_result"
    }
   ],
   "source": [
    "def quicksort(arr,left,right):\n",
    "    if left < right:\n",
    "        partition_pos = partition(arr,left,right)\n",
    "        quicksort(arr,left,partition_pos - 1) #left subarray\n",
    "        quicksort(arr, partition_pos + 1, right) #right subarray\n",
    "        \n",
    "def partition(arr,left,right):\n",
    "    i = left\n",
    "    j = right - 1\n",
    "    pivot = arr[right]\n",
    "    \n",
    "    while i < j:\n",
    "        while i < right and arr[i] < pivot:\n",
    "            i += 1\n",
    "        while j > left and arr[j] >= pivot:\n",
    "            j -= 1\n",
    "            \n",
    "        if i < j:\n",
    "            arr[i], arr[j] = arr[j], arr[i]\n",
    "            \n",
    "    if arr[i] > pivot:\n",
    "        arr[i], arr[right] = arr[right], arr[i]\n",
    "        \n",
    "    return i\n",
    "\n",
    "arr = [22,11,88,66,55,77,33,44]\n",
    "quicksort(arr,0,len(arr)-1)\n",
    "arr"
   ]
  },
  {
   "cell_type": "code",
   "execution_count": 4,
   "id": "c600390e",
   "metadata": {},
   "outputs": [
    {
     "name": "stdout",
     "output_type": "stream",
     "text": [
      "Memory Before:[69.23828125]MB\n",
      "Memory After:[69.4765625]MB\n"
     ]
    }
   ],
   "source": [
    "# %%time\n",
    "import memory_profiler as mem_profile\n",
    "from math import isqrt\n",
    "\n",
    "#return all primes less than n\n",
    "def Sieve2(n):\n",
    "    if n <= 2:\n",
    "        return []\n",
    "    is_prime = [True]*n\n",
    "    is_prime[0] = False\n",
    "    is_prime[1] = False\n",
    "    \n",
    "    for i in range(2,isqrt(n)):\n",
    "        if is_prime[i]:\n",
    "            for x in range(i*i,n,i):\n",
    "                is_prime[x] = False\n",
    "                \n",
    "    return [i for i in range(n) if is_prime[i]]\n",
    "print(\"Memory Before:{}MB\".format(mem_profile.memory_usage()))\n",
    "Sieve2(1000000)\n",
    "print(\"Memory After:{}MB\".format(mem_profile.memory_usage()))"
   ]
  },
  {
   "cell_type": "code",
   "execution_count": null,
   "id": "04deac2f",
   "metadata": {},
   "outputs": [],
   "source": []
  }
 ],
 "metadata": {
  "kernelspec": {
   "display_name": "Python 3 (ipykernel)",
   "language": "python",
   "name": "python3"
  },
  "language_info": {
   "codemirror_mode": {
    "name": "ipython",
    "version": 3
   },
   "file_extension": ".py",
   "mimetype": "text/x-python",
   "name": "python",
   "nbconvert_exporter": "python",
   "pygments_lexer": "ipython3",
   "version": "3.9.12"
  }
 },
 "nbformat": 4,
 "nbformat_minor": 5
}
